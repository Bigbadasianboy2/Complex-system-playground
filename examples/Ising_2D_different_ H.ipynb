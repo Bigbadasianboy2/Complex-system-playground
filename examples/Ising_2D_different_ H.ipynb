{
 "cells": [
  {
   "cell_type": "code",
   "execution_count": 2,
   "id": "0c4085b8-27e7-4e68-8bd6-80c18dfb8ed1",
   "metadata": {
    "tags": []
   },
   "outputs": [],
   "source": [
    "import numpy as np\n",
    "\n",
    "# Initialize the lattice\n",
    "def initialize_lattice(L):\n",
    "    \"\"\"Initialize an LxL lattice with random spin configuration (+1 or -1).\"\"\"\n",
    "    return np.random.choice([-1, 1], size=(L, L))\n",
    "\n",
    "# Compute the energy change for a proposed spin flip with external magnetic field\n",
    "def delta_energy(lattice, i, j, H):\n",
    "    \"\"\"Calculate the change in energy when flipping the spin at (i, j), including external field H.\"\"\"\n",
    "    L = lattice.shape[0]\n",
    "    spin = lattice[i, j]\n",
    "    neighbors_sum = (\n",
    "        lattice[(i + 1) % L, j] +\n",
    "        lattice[(i - 1) % L, j] +\n",
    "        lattice[i, (j + 1) % L] +\n",
    "        lattice[i, (j - 1) % L]\n",
    "    )\n",
    "    dE = 2 * spin * (neighbors_sum + H)  # Include external magnetic field H\n",
    "    return dE\n",
    "\n",
    "# Metropolis-Hastings step\n",
    "def metropolis_step(lattice, beta, H):\n",
    "    \"\"\"Perform one Metropolis-Hastings step for the entire lattice.\"\"\"\n",
    "    L = lattice.shape[0]\n",
    "    for _ in range(L * L):  # Attempt L^2 spin flips per step\n",
    "        i = np.random.randint(L)\n",
    "        j = np.random.randint(L)\n",
    "        \n",
    "        dE = delta_energy(lattice, i, j, H)\n",
    "        \n",
    "        # Metropolis criterion\n",
    "        if dE <= 0 or np.random.rand() < np.exp(-beta * dE):\n",
    "            lattice[i, j] *= -1  # Flip the spin\n",
    "\n",
    "# Run the simulation and calculate equilibrium magnetization\n",
    "def run_simulation(L, beta, H, steps, equilibration_steps=100):\n",
    "    \"\"\"Run the Metropolis-Hastings simulation and calculate magnetization.\"\"\"\n",
    "    lattice = initialize_lattice(L)\n",
    "    \n",
    "    # Equilibrate the system\n",
    "    for _ in range(equilibration_steps):\n",
    "        metropolis_step(lattice, beta, H)\n",
    "    \n",
    "    # Calculate magnetization after equilibration\n",
    "    magnetizations = []\n",
    "    for step in range(steps):\n",
    "        metropolis_step(lattice, beta, H)\n",
    "        magnetization = np.sum(lattice) / (L * L)  # Magnetization per site\n",
    "        magnetizations.append(magnetization)\n",
    "    \n",
    "    # Return average magnetization as equilibrium value\n",
    "    # also the standard deviation of the magnetization \n",
    "    # to show the convergence of the MC simulation\n",
    "    return np.mean(magnetizations), np.std(magnetizations)\n",
    "\n"
   ]
  },
  {
   "cell_type": "code",
   "execution_count": 4,
   "id": "b3f8a792-c392-4317-a7b7-e293f9c62ebf",
   "metadata": {
    "tags": []
   },
   "outputs": [
    {
     "name": "stdout",
     "output_type": "stream",
     "text": [
      "1.5\n",
      "1.6842105263157894\n",
      "1.868421052631579\n",
      "2.052631578947368\n",
      "2.236842105263158\n",
      "2.4210526315789473\n",
      "2.6052631578947367\n",
      "2.7894736842105265\n",
      "2.973684210526316\n",
      "3.1578947368421053\n"
     ]
    },
    {
     "ename": "KeyboardInterrupt",
     "evalue": "",
     "output_type": "error",
     "traceback": [
      "\u001b[0;31m---------------------------------------------------------------------------\u001b[0m",
      "\u001b[0;31mKeyboardInterrupt\u001b[0m                         Traceback (most recent call last)",
      "Cell \u001b[0;32mIn[4], line 19\u001b[0m\n\u001b[1;32m     17\u001b[0m \u001b[38;5;28mprint\u001b[39m(T)\n\u001b[1;32m     18\u001b[0m beta \u001b[38;5;241m=\u001b[39m \u001b[38;5;241m1\u001b[39m \u001b[38;5;241m/\u001b[39m T\n\u001b[0;32m---> 19\u001b[0m mag_avg, mag_std \u001b[38;5;241m=\u001b[39m run_simulation(L, beta, H, steps, equilibration_steps)\n\u001b[1;32m     20\u001b[0m mag_avg_tmp\u001b[38;5;241m.\u001b[39mappend(mag_avg)\n\u001b[1;32m     21\u001b[0m mag_std_tmp\u001b[38;5;241m.\u001b[39mappend(mag_std)\n",
      "Cell \u001b[0;32mIn[2], line 48\u001b[0m, in \u001b[0;36mrun_simulation\u001b[0;34m(L, beta, H, steps, equilibration_steps)\u001b[0m\n\u001b[1;32m     46\u001b[0m magnetizations \u001b[38;5;241m=\u001b[39m []\n\u001b[1;32m     47\u001b[0m \u001b[38;5;28;01mfor\u001b[39;00m step \u001b[38;5;129;01min\u001b[39;00m \u001b[38;5;28mrange\u001b[39m(steps):\n\u001b[0;32m---> 48\u001b[0m     metropolis_step(lattice, beta, H)\n\u001b[1;32m     49\u001b[0m     magnetization \u001b[38;5;241m=\u001b[39m np\u001b[38;5;241m.\u001b[39msum(lattice) \u001b[38;5;241m/\u001b[39m (L \u001b[38;5;241m*\u001b[39m L)  \u001b[38;5;66;03m# Magnetization per site\u001b[39;00m\n\u001b[1;32m     50\u001b[0m     magnetizations\u001b[38;5;241m.\u001b[39mappend(magnetization)\n",
      "Cell \u001b[0;32mIn[2], line 33\u001b[0m, in \u001b[0;36mmetropolis_step\u001b[0;34m(lattice, beta, H)\u001b[0m\n\u001b[1;32m     30\u001b[0m dE \u001b[38;5;241m=\u001b[39m delta_energy(lattice, i, j, H)\n\u001b[1;32m     32\u001b[0m \u001b[38;5;66;03m# Metropolis criterion\u001b[39;00m\n\u001b[0;32m---> 33\u001b[0m \u001b[38;5;28;01mif\u001b[39;00m dE \u001b[38;5;241m<\u001b[39m\u001b[38;5;241m=\u001b[39m \u001b[38;5;241m0\u001b[39m \u001b[38;5;129;01mor\u001b[39;00m np\u001b[38;5;241m.\u001b[39mrandom\u001b[38;5;241m.\u001b[39mrand() \u001b[38;5;241m<\u001b[39m np\u001b[38;5;241m.\u001b[39mexp(\u001b[38;5;241m-\u001b[39mbeta \u001b[38;5;241m*\u001b[39m dE):\n\u001b[1;32m     34\u001b[0m     lattice[i, j] \u001b[38;5;241m*\u001b[39m\u001b[38;5;241m=\u001b[39m \u001b[38;5;241m-\u001b[39m\u001b[38;5;241m1\u001b[39m\n",
      "\u001b[0;31mKeyboardInterrupt\u001b[0m: "
     ]
    }
   ],
   "source": [
    "# Parameters\n",
    "L = 20  # Lattice size (LxL)\n",
    "steps = 1000  # Number of Monte Carlo steps for measurement\n",
    "equilibration_steps = 500  # Steps to reach equilibrium\n",
    "\n",
    "# Temperature and external field range\n",
    "temperatures = np.linspace(1.5, 5.0, 20)  # Inverse temperature range (1/kT)\n",
    "H_values = [0, 0.1, 0.5]  # Different external magnetic field strengths\n",
    "\n",
    "# Run the simulation for different temperatures and fields\n",
    "mag_avg_all = {}\n",
    "mag_std_all = {}\n",
    "for H in H_values:\n",
    "    mag_avg_tmp = []\n",
    "    mag_std_tmp = []\n",
    "    for T in temperatures:\n",
    "        print(T)\n",
    "        beta = 1 / T\n",
    "        mag_avg, mag_std = run_simulation(L, beta, H, steps, equilibration_steps)\n",
    "        mag_avg_tmp.append(mag_avg)\n",
    "        mag_std_tmp.append(mag_std)\n",
    "\n",
    "    mag_avg_all[H] = mag_avg_tmp\n",
    "    mag_std_all[H] = mag_std_tmp"
   ]
  },
  {
   "cell_type": "code",
   "execution_count": null,
   "id": "1e3c5595-c9d3-4044-ab8a-f402eb43434d",
   "metadata": {
    "tags": []
   },
   "outputs": [],
   "source": [
    "import matplotlib.pyplot as plt\n",
    "\n",
    "# Plot results\n",
    "# plt.figure(figsize=(10, 6))\n",
    "plt.figure()\n",
    "\n",
    "for iH in range(len(H_values)):\n",
    "    H_tmp = H_values[iH]\n",
    "    plt.errorbar(\n",
    "        temperatures, \n",
    "        np.abs(mag_avg_all[H_tmp]), \n",
    "        np.abs(mag_std_all[H_tmp]), \n",
    "        fmt='o-', \n",
    "        label=f'H = {H_tmp}'\n",
    "    )\n",
    "\n",
    "# theoretical critcal temperature at H=0: Tc = 2.269*J\n",
    "plt.axvline(x = 2.269, color = 'b', ls='--')\n",
    "    \n",
    "plt.xlabel('Temperature (T)')\n",
    "plt.ylabel('Equilibrium Magnetization')\n",
    "plt.title('Equilibrium Magnetization vs Temperature')\n",
    "plt.legend()\n",
    "plt.grid(True)\n",
    "# plt.show()\n",
    "\n",
    "plt.savefig(\"Ising_2D.pdf\", dpi=150)"
   ]
  },
  {
   "cell_type": "code",
   "execution_count": null,
   "id": "58cb4712-dd60-4d90-946a-a08468195aee",
   "metadata": {},
   "outputs": [],
   "source": []
  },
  {
   "cell_type": "code",
   "execution_count": null,
   "id": "8433d646-2a7b-484f-bf00-af112cc0fe64",
   "metadata": {},
   "outputs": [],
   "source": []
  },
  {
   "cell_type": "code",
   "execution_count": null,
   "id": "422c1bb1-4797-4a65-b80e-b66408cd2ea7",
   "metadata": {},
   "outputs": [],
   "source": []
  }
 ],
 "metadata": {
  "kernelspec": {
   "display_name": "Python 3 (ipykernel)",
   "language": "python",
   "name": "python3"
  },
  "language_info": {
   "codemirror_mode": {
    "name": "ipython",
    "version": 3
   },
   "file_extension": ".py",
   "mimetype": "text/x-python",
   "name": "python",
   "nbconvert_exporter": "python",
   "pygments_lexer": "ipython3",
   "version": "3.12.7"
  }
 },
 "nbformat": 4,
 "nbformat_minor": 5
}
